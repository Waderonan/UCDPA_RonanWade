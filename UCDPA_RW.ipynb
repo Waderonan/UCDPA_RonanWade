{
 "cells": [
  {
   "cell_type": "code",
   "execution_count": 1,
   "metadata": {},
   "outputs": [],
   "source": [
    "import pandas as pd\n"
   ]
  },
  {
   "cell_type": "code",
   "execution_count": 2,
   "metadata": {},
   "outputs": [
    {
     "ename": "SyntaxError",
     "evalue": "invalid syntax (<ipython-input-2-c450fe1f5aba>, line 1)",
     "output_type": "error",
     "traceback": [
      "\u001b[1;36m  File \u001b[1;32m\"<ipython-input-2-c450fe1f5aba>\"\u001b[1;36m, line \u001b[1;32m1\u001b[0m\n\u001b[1;33m    Movies = pd.read_csv(https://raw.githubusercontent.com/Waderonan/UCDPA_RonanWade/main/IMDB_movie_reviews_details.csv)\u001b[0m\n\u001b[1;37m                              ^\u001b[0m\n\u001b[1;31mSyntaxError\u001b[0m\u001b[1;31m:\u001b[0m invalid syntax\n"
     ]
    }
   ],
   "source": [
    "Movies = pd.read_csv(https://raw.githubusercontent.com/Waderonan/UCDPA_RonanWade/main/IMDB_movie_reviews_details.csv)"
   ]
  },
  {
   "cell_type": "code",
   "execution_count": 3,
   "metadata": {},
   "outputs": [
    {
     "data": {
      "text/html": [
       "<div>\n",
       "<style scoped>\n",
       "    .dataframe tbody tr th:only-of-type {\n",
       "        vertical-align: middle;\n",
       "    }\n",
       "\n",
       "    .dataframe tbody tr th {\n",
       "        vertical-align: top;\n",
       "    }\n",
       "\n",
       "    .dataframe thead th {\n",
       "        text-align: right;\n",
       "    }\n",
       "</style>\n",
       "<table border=\"1\" class=\"dataframe\">\n",
       "  <thead>\n",
       "    <tr style=\"text-align: right;\">\n",
       "      <th></th>\n",
       "      <th>Unnamed: 0</th>\n",
       "      <th>name</th>\n",
       "      <th>year</th>\n",
       "      <th>runtime</th>\n",
       "      <th>genre</th>\n",
       "      <th>rating</th>\n",
       "      <th>metascore</th>\n",
       "      <th>timeline</th>\n",
       "      <th>votes</th>\n",
       "      <th>gross</th>\n",
       "    </tr>\n",
       "  </thead>\n",
       "  <tbody>\n",
       "    <tr>\n",
       "      <th>0</th>\n",
       "      <td>0</td>\n",
       "      <td>The Shawshank Redemption</td>\n",
       "      <td>1994</td>\n",
       "      <td>142</td>\n",
       "      <td>Drama</td>\n",
       "      <td>9.3</td>\n",
       "      <td>80.0</td>\n",
       "      <td>Two imprisoned men bond over a number of years...</td>\n",
       "      <td>2,394,059</td>\n",
       "      <td>$28.34M</td>\n",
       "    </tr>\n",
       "    <tr>\n",
       "      <th>1</th>\n",
       "      <td>1</td>\n",
       "      <td>The Godfather</td>\n",
       "      <td>1972</td>\n",
       "      <td>175</td>\n",
       "      <td>Crime, Drama</td>\n",
       "      <td>9.2</td>\n",
       "      <td>100.0</td>\n",
       "      <td>An organized crime dynasty's aging patriarch t...</td>\n",
       "      <td>1,658,439</td>\n",
       "      <td>$134.97M</td>\n",
       "    </tr>\n",
       "    <tr>\n",
       "      <th>2</th>\n",
       "      <td>2</td>\n",
       "      <td>Soorarai Pottru</td>\n",
       "      <td>2020</td>\n",
       "      <td>153</td>\n",
       "      <td>Drama</td>\n",
       "      <td>9.1</td>\n",
       "      <td>NaN</td>\n",
       "      <td>Nedumaaran Rajangam \"Maara\" sets out to make t...</td>\n",
       "      <td>78,266</td>\n",
       "      <td>NaN</td>\n",
       "    </tr>\n",
       "    <tr>\n",
       "      <th>3</th>\n",
       "      <td>3</td>\n",
       "      <td>The Dark Knight</td>\n",
       "      <td>2008</td>\n",
       "      <td>152</td>\n",
       "      <td>Action, Crime, Drama</td>\n",
       "      <td>9.0</td>\n",
       "      <td>84.0</td>\n",
       "      <td>When the menace known as the Joker wreaks havo...</td>\n",
       "      <td>2,355,907</td>\n",
       "      <td>$534.86M</td>\n",
       "    </tr>\n",
       "    <tr>\n",
       "      <th>4</th>\n",
       "      <td>4</td>\n",
       "      <td>The Godfather: Part II</td>\n",
       "      <td>1974</td>\n",
       "      <td>202</td>\n",
       "      <td>Crime, Drama</td>\n",
       "      <td>9.0</td>\n",
       "      <td>90.0</td>\n",
       "      <td>The early life and career of Vito Corleone in ...</td>\n",
       "      <td>1,152,912</td>\n",
       "      <td>$57.30M</td>\n",
       "    </tr>\n",
       "    <tr>\n",
       "      <th>...</th>\n",
       "      <td>...</td>\n",
       "      <td>...</td>\n",
       "      <td>...</td>\n",
       "      <td>...</td>\n",
       "      <td>...</td>\n",
       "      <td>...</td>\n",
       "      <td>...</td>\n",
       "      <td>...</td>\n",
       "      <td>...</td>\n",
       "      <td>...</td>\n",
       "    </tr>\n",
       "    <tr>\n",
       "      <th>995</th>\n",
       "      <td>995</td>\n",
       "      <td>Breakfast at Tiffany's</td>\n",
       "      <td>1961</td>\n",
       "      <td>115</td>\n",
       "      <td>Comedy, Drama, Romance</td>\n",
       "      <td>7.6</td>\n",
       "      <td>76.0</td>\n",
       "      <td>A young New York socialite becomes interested ...</td>\n",
       "      <td>169,575</td>\n",
       "      <td>NaN</td>\n",
       "    </tr>\n",
       "    <tr>\n",
       "      <th>996</th>\n",
       "      <td>996</td>\n",
       "      <td>Giant</td>\n",
       "      <td>1956</td>\n",
       "      <td>201</td>\n",
       "      <td>Drama, Western</td>\n",
       "      <td>7.6</td>\n",
       "      <td>84.0</td>\n",
       "      <td>Sprawling epic covering the life of a Texas ca...</td>\n",
       "      <td>34,759</td>\n",
       "      <td>NaN</td>\n",
       "    </tr>\n",
       "    <tr>\n",
       "      <th>997</th>\n",
       "      <td>997</td>\n",
       "      <td>Shane</td>\n",
       "      <td>1953</td>\n",
       "      <td>118</td>\n",
       "      <td>Drama, Western</td>\n",
       "      <td>7.6</td>\n",
       "      <td>80.0</td>\n",
       "      <td>A weary gunfighter attempts to settle down wit...</td>\n",
       "      <td>37,753</td>\n",
       "      <td>$20.00M</td>\n",
       "    </tr>\n",
       "    <tr>\n",
       "      <th>998</th>\n",
       "      <td>998</td>\n",
       "      <td>From Here to Eternity</td>\n",
       "      <td>1953</td>\n",
       "      <td>118</td>\n",
       "      <td>Drama, Romance, War</td>\n",
       "      <td>7.6</td>\n",
       "      <td>85.0</td>\n",
       "      <td>In Hawaii in 1941, a private is cruelly punish...</td>\n",
       "      <td>44,086</td>\n",
       "      <td>$30.50M</td>\n",
       "    </tr>\n",
       "    <tr>\n",
       "      <th>999</th>\n",
       "      <td>999</td>\n",
       "      <td>Lifeboat</td>\n",
       "      <td>1944</td>\n",
       "      <td>97</td>\n",
       "      <td>Drama, War</td>\n",
       "      <td>7.6</td>\n",
       "      <td>78.0</td>\n",
       "      <td>Several survivors of a torpedoed merchant ship...</td>\n",
       "      <td>26,903</td>\n",
       "      <td>NaN</td>\n",
       "    </tr>\n",
       "  </tbody>\n",
       "</table>\n",
       "<p>1000 rows × 10 columns</p>\n",
       "</div>"
      ],
      "text/plain": [
       "     Unnamed: 0                      name  year  runtime  \\\n",
       "0             0  The Shawshank Redemption  1994      142   \n",
       "1             1             The Godfather  1972      175   \n",
       "2             2           Soorarai Pottru  2020      153   \n",
       "3             3           The Dark Knight  2008      152   \n",
       "4             4    The Godfather: Part II  1974      202   \n",
       "..          ...                       ...   ...      ...   \n",
       "995         995    Breakfast at Tiffany's  1961      115   \n",
       "996         996                     Giant  1956      201   \n",
       "997         997                     Shane  1953      118   \n",
       "998         998     From Here to Eternity  1953      118   \n",
       "999         999                  Lifeboat  1944       97   \n",
       "\n",
       "                      genre  rating  metascore  \\\n",
       "0                     Drama     9.3       80.0   \n",
       "1              Crime, Drama     9.2      100.0   \n",
       "2                     Drama     9.1        NaN   \n",
       "3      Action, Crime, Drama     9.0       84.0   \n",
       "4              Crime, Drama     9.0       90.0   \n",
       "..                      ...     ...        ...   \n",
       "995  Comedy, Drama, Romance     7.6       76.0   \n",
       "996          Drama, Western     7.6       84.0   \n",
       "997          Drama, Western     7.6       80.0   \n",
       "998     Drama, Romance, War     7.6       85.0   \n",
       "999              Drama, War     7.6       78.0   \n",
       "\n",
       "                                              timeline      votes     gross  \n",
       "0    Two imprisoned men bond over a number of years...  2,394,059   $28.34M  \n",
       "1    An organized crime dynasty's aging patriarch t...  1,658,439  $134.97M  \n",
       "2    Nedumaaran Rajangam \"Maara\" sets out to make t...     78,266       NaN  \n",
       "3    When the menace known as the Joker wreaks havo...  2,355,907  $534.86M  \n",
       "4    The early life and career of Vito Corleone in ...  1,152,912   $57.30M  \n",
       "..                                                 ...        ...       ...  \n",
       "995  A young New York socialite becomes interested ...    169,575       NaN  \n",
       "996  Sprawling epic covering the life of a Texas ca...     34,759       NaN  \n",
       "997  A weary gunfighter attempts to settle down wit...     37,753   $20.00M  \n",
       "998  In Hawaii in 1941, a private is cruelly punish...     44,086   $30.50M  \n",
       "999  Several survivors of a torpedoed merchant ship...     26,903       NaN  \n",
       "\n",
       "[1000 rows x 10 columns]"
      ]
     },
     "execution_count": 3,
     "metadata": {},
     "output_type": "execute_result"
    }
   ],
   "source": [
    "pd.read_csv('https://raw.githubusercontent.com/Waderonan/UCDPA_RonanWade/main/IMDB_movie_reviews_details.csv')"
   ]
  },
  {
   "cell_type": "code",
   "execution_count": 4,
   "metadata": {},
   "outputs": [
    {
     "name": "stdout",
     "output_type": "stream",
     "text": [
      "   Unnamed: 0                      name  year  runtime                 genre  \\\n",
      "0           0  The Shawshank Redemption  1994      142                 Drama   \n",
      "1           1             The Godfather  1972      175          Crime, Drama   \n",
      "2           2           Soorarai Pottru  2020      153                 Drama   \n",
      "3           3           The Dark Knight  2008      152  Action, Crime, Drama   \n",
      "4           4    The Godfather: Part II  1974      202          Crime, Drama   \n",
      "\n",
      "   rating  metascore                                           timeline  \\\n",
      "0     9.3       80.0  Two imprisoned men bond over a number of years...   \n",
      "1     9.2      100.0  An organized crime dynasty's aging patriarch t...   \n",
      "2     9.1        NaN  Nedumaaran Rajangam \"Maara\" sets out to make t...   \n",
      "3     9.0       84.0  When the menace known as the Joker wreaks havo...   \n",
      "4     9.0       90.0  The early life and career of Vito Corleone in ...   \n",
      "\n",
      "       votes     gross  \n",
      "0  2,394,059   $28.34M  \n",
      "1  1,658,439  $134.97M  \n",
      "2     78,266       NaN  \n",
      "3  2,355,907  $534.86M  \n",
      "4  1,152,912   $57.30M  \n"
     ]
    }
   ],
   "source": [
    "movies = pd.read_csv('https://raw.githubusercontent.com/Waderonan/UCDPA_RonanWade/main/IMDB_movie_reviews_details.csv')\n",
    "print(movies.head())"
   ]
  },
  {
   "cell_type": "code",
   "execution_count": 5,
   "metadata": {},
   "outputs": [],
   "source": [
    "import matplotlib.pyplot as plt\n",
    "import seaborn as sns\n",
    "import numpy as np"
   ]
  },
  {
   "cell_type": "code",
   "execution_count": 6,
   "metadata": {},
   "outputs": [
    {
     "data": {
      "text/plain": [
       "Unnamed: 0      0\n",
       "name            0\n",
       "year            0\n",
       "runtime         0\n",
       "genre           0\n",
       "rating          0\n",
       "metascore     159\n",
       "timeline        0\n",
       "votes           0\n",
       "gross         171\n",
       "dtype: int64"
      ]
     },
     "execution_count": 6,
     "metadata": {},
     "output_type": "execute_result"
    }
   ],
   "source": [
    "movies.isnull().sum()"
   ]
  },
  {
   "cell_type": "code",
   "execution_count": 7,
   "metadata": {},
   "outputs": [
    {
     "name": "stdout",
     "output_type": "stream",
     "text": [
      "<class 'pandas.core.frame.DataFrame'>\n",
      "RangeIndex: 1000 entries, 0 to 999\n",
      "Data columns (total 10 columns):\n",
      " #   Column      Non-Null Count  Dtype  \n",
      "---  ------      --------------  -----  \n",
      " 0   Unnamed: 0  1000 non-null   int64  \n",
      " 1   name        1000 non-null   object \n",
      " 2   year        1000 non-null   object \n",
      " 3   runtime     1000 non-null   int64  \n",
      " 4   genre       1000 non-null   object \n",
      " 5   rating      1000 non-null   float64\n",
      " 6   metascore   841 non-null    float64\n",
      " 7   timeline    1000 non-null   object \n",
      " 8   votes       1000 non-null   object \n",
      " 9   gross       829 non-null    object \n",
      "dtypes: float64(2), int64(2), object(6)\n",
      "memory usage: 78.2+ KB\n",
      "None\n"
     ]
    }
   ],
   "source": [
    "print(movies.info())"
   ]
  },
  {
   "cell_type": "code",
   "execution_count": 8,
   "metadata": {},
   "outputs": [
    {
     "name": "stdout",
     "output_type": "stream",
     "text": [
      "RangeIndex(start=0, stop=1000, step=1)\n"
     ]
    }
   ],
   "source": [
    "print(movies.index)"
   ]
  },
  {
   "cell_type": "code",
   "execution_count": 9,
   "metadata": {},
   "outputs": [
    {
     "name": "stdout",
     "output_type": "stream",
     "text": [
      "        Unnamed: 0      runtime       rating   metascore\n",
      "count  1000.000000  1000.000000  1000.000000  841.000000\n",
      "mean    499.500000   123.017000     7.954000   78.158145\n",
      "std     288.819436    28.212598     0.276008   12.289270\n",
      "min       0.000000    45.000000     7.600000   28.000000\n",
      "25%     249.750000   103.000000     7.700000   71.000000\n",
      "50%     499.500000   119.000000     7.900000   79.000000\n",
      "75%     749.250000   137.000000     8.100000   87.000000\n",
      "max     999.000000   321.000000     9.300000  100.000000\n"
     ]
    }
   ],
   "source": [
    "print(movies.describe())"
   ]
  },
  {
   "cell_type": "code",
   "execution_count": 10,
   "metadata": {},
   "outputs": [
    {
     "name": "stdout",
     "output_type": "stream",
     "text": [
      "Unnamed: 0      int64\n",
      "name           object\n",
      "year           object\n",
      "runtime         int64\n",
      "genre          object\n",
      "rating        float64\n",
      "metascore     float64\n",
      "timeline       object\n",
      "votes          object\n",
      "gross          object\n",
      "dtype: object\n"
     ]
    }
   ],
   "source": [
    "print(movies.dtypes)"
   ]
  },
  {
   "cell_type": "code",
   "execution_count": 11,
   "metadata": {},
   "outputs": [
    {
     "data": {
      "text/plain": [
       "Index(['Unnamed: 0', 'name', 'year', 'runtime', 'genre', 'rating', 'metascore',\n",
       "       'timeline', 'votes', 'gross'],\n",
       "      dtype='object')"
      ]
     },
     "execution_count": 11,
     "metadata": {},
     "output_type": "execute_result"
    }
   ],
   "source": [
    "movies.columns"
   ]
  },
  {
   "cell_type": "code",
   "execution_count": 12,
   "metadata": {},
   "outputs": [
    {
     "data": {
      "text/plain": [
       "Unnamed: 0      int64\n",
       "name           object\n",
       "year           object\n",
       "runtime         int64\n",
       "genre          object\n",
       "rating        float64\n",
       "metascore     float64\n",
       "timeline       object\n",
       "votes          object\n",
       "gross          object\n",
       "dtype: object"
      ]
     },
     "execution_count": 12,
     "metadata": {},
     "output_type": "execute_result"
    }
   ],
   "source": [
    "movies.dtypes"
   ]
  },
  {
   "cell_type": "code",
   "execution_count": null,
   "metadata": {},
   "outputs": [],
   "source": []
  }
 ],
 "metadata": {
  "kernelspec": {
   "display_name": "Python 3",
   "language": "python",
   "name": "python3"
  },
  "language_info": {
   "codemirror_mode": {
    "name": "ipython",
    "version": 3
   },
   "file_extension": ".py",
   "mimetype": "text/x-python",
   "name": "python",
   "nbconvert_exporter": "python",
   "pygments_lexer": "ipython3",
   "version": "3.8.5"
  }
 },
 "nbformat": 4,
 "nbformat_minor": 4
}
