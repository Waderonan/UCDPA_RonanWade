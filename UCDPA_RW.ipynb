{
 "cells": [
  {
   "cell_type": "code",
   "execution_count": 1,
   "metadata": {},
   "outputs": [],
   "source": [
    "import pandas as pd\n"
   ]
  },
  {
   "cell_type": "code",
   "execution_count": 2,
   "metadata": {},
   "outputs": [
    {
     "ename": "SyntaxError",
     "evalue": "invalid syntax (<ipython-input-2-c450fe1f5aba>, line 1)",
     "output_type": "error",
     "traceback": [
      "\u001b[1;36m  File \u001b[1;32m\"<ipython-input-2-c450fe1f5aba>\"\u001b[1;36m, line \u001b[1;32m1\u001b[0m\n\u001b[1;33m    Movies = pd.read_csv(https://raw.githubusercontent.com/Waderonan/UCDPA_RonanWade/main/IMDB_movie_reviews_details.csv)\u001b[0m\n\u001b[1;37m                              ^\u001b[0m\n\u001b[1;31mSyntaxError\u001b[0m\u001b[1;31m:\u001b[0m invalid syntax\n"
     ]
    }
   ],
   "source": [
    "Movies = pd.read_csv(https://raw.githubusercontent.com/Waderonan/UCDPA_RonanWade/main/IMDB_movie_reviews_details.csv)"
   ]
  },
  {
   "cell_type": "code",
   "execution_count": 3,
   "metadata": {},
   "outputs": [
    {
     "data": {
      "text/html": [
       "<div>\n",
       "<style scoped>\n",
       "    .dataframe tbody tr th:only-of-type {\n",
       "        vertical-align: middle;\n",
       "    }\n",
       "\n",
       "    .dataframe tbody tr th {\n",
       "        vertical-align: top;\n",
       "    }\n",
       "\n",
       "    .dataframe thead th {\n",
       "        text-align: right;\n",
       "    }\n",
       "</style>\n",
       "<table border=\"1\" class=\"dataframe\">\n",
       "  <thead>\n",
       "    <tr style=\"text-align: right;\">\n",
       "      <th></th>\n",
       "      <th>Unnamed: 0</th>\n",
       "      <th>name</th>\n",
       "      <th>year</th>\n",
       "      <th>runtime</th>\n",
       "      <th>genre</th>\n",
       "      <th>rating</th>\n",
       "      <th>metascore</th>\n",
       "      <th>timeline</th>\n",
       "      <th>votes</th>\n",
       "      <th>gross</th>\n",
       "    </tr>\n",
       "  </thead>\n",
       "  <tbody>\n",
       "    <tr>\n",
       "      <th>0</th>\n",
       "      <td>0</td>\n",
       "      <td>The Shawshank Redemption</td>\n",
       "      <td>1994</td>\n",
       "      <td>142</td>\n",
       "      <td>Drama</td>\n",
       "      <td>9.3</td>\n",
       "      <td>80.0</td>\n",
       "      <td>Two imprisoned men bond over a number of years...</td>\n",
       "      <td>2,394,059</td>\n",
       "      <td>$28.34M</td>\n",
       "    </tr>\n",
       "    <tr>\n",
       "      <th>1</th>\n",
       "      <td>1</td>\n",
       "      <td>The Godfather</td>\n",
       "      <td>1972</td>\n",
       "      <td>175</td>\n",
       "      <td>Crime, Drama</td>\n",
       "      <td>9.2</td>\n",
       "      <td>100.0</td>\n",
       "      <td>An organized crime dynasty's aging patriarch t...</td>\n",
       "      <td>1,658,439</td>\n",
       "      <td>$134.97M</td>\n",
       "    </tr>\n",
       "    <tr>\n",
       "      <th>2</th>\n",
       "      <td>2</td>\n",
       "      <td>Soorarai Pottru</td>\n",
       "      <td>2020</td>\n",
       "      <td>153</td>\n",
       "      <td>Drama</td>\n",
       "      <td>9.1</td>\n",
       "      <td>NaN</td>\n",
       "      <td>Nedumaaran Rajangam \"Maara\" sets out to make t...</td>\n",
       "      <td>78,266</td>\n",
       "      <td>NaN</td>\n",
       "    </tr>\n",
       "    <tr>\n",
       "      <th>3</th>\n",
       "      <td>3</td>\n",
       "      <td>The Dark Knight</td>\n",
       "      <td>2008</td>\n",
       "      <td>152</td>\n",
       "      <td>Action, Crime, Drama</td>\n",
       "      <td>9.0</td>\n",
       "      <td>84.0</td>\n",
       "      <td>When the menace known as the Joker wreaks havo...</td>\n",
       "      <td>2,355,907</td>\n",
       "      <td>$534.86M</td>\n",
       "    </tr>\n",
       "    <tr>\n",
       "      <th>4</th>\n",
       "      <td>4</td>\n",
       "      <td>The Godfather: Part II</td>\n",
       "      <td>1974</td>\n",
       "      <td>202</td>\n",
       "      <td>Crime, Drama</td>\n",
       "      <td>9.0</td>\n",
       "      <td>90.0</td>\n",
       "      <td>The early life and career of Vito Corleone in ...</td>\n",
       "      <td>1,152,912</td>\n",
       "      <td>$57.30M</td>\n",
       "    </tr>\n",
       "    <tr>\n",
       "      <th>...</th>\n",
       "      <td>...</td>\n",
       "      <td>...</td>\n",
       "      <td>...</td>\n",
       "      <td>...</td>\n",
       "      <td>...</td>\n",
       "      <td>...</td>\n",
       "      <td>...</td>\n",
       "      <td>...</td>\n",
       "      <td>...</td>\n",
       "      <td>...</td>\n",
       "    </tr>\n",
       "    <tr>\n",
       "      <th>995</th>\n",
       "      <td>995</td>\n",
       "      <td>Breakfast at Tiffany's</td>\n",
       "      <td>1961</td>\n",
       "      <td>115</td>\n",
       "      <td>Comedy, Drama, Romance</td>\n",
       "      <td>7.6</td>\n",
       "      <td>76.0</td>\n",
       "      <td>A young New York socialite becomes interested ...</td>\n",
       "      <td>169,575</td>\n",
       "      <td>NaN</td>\n",
       "    </tr>\n",
       "    <tr>\n",
       "      <th>996</th>\n",
       "      <td>996</td>\n",
       "      <td>Giant</td>\n",
       "      <td>1956</td>\n",
       "      <td>201</td>\n",
       "      <td>Drama, Western</td>\n",
       "      <td>7.6</td>\n",
       "      <td>84.0</td>\n",
       "      <td>Sprawling epic covering the life of a Texas ca...</td>\n",
       "      <td>34,759</td>\n",
       "      <td>NaN</td>\n",
       "    </tr>\n",
       "    <tr>\n",
       "      <th>997</th>\n",
       "      <td>997</td>\n",
       "      <td>Shane</td>\n",
       "      <td>1953</td>\n",
       "      <td>118</td>\n",
       "      <td>Drama, Western</td>\n",
       "      <td>7.6</td>\n",
       "      <td>80.0</td>\n",
       "      <td>A weary gunfighter attempts to settle down wit...</td>\n",
       "      <td>37,753</td>\n",
       "      <td>$20.00M</td>\n",
       "    </tr>\n",
       "    <tr>\n",
       "      <th>998</th>\n",
       "      <td>998</td>\n",
       "      <td>From Here to Eternity</td>\n",
       "      <td>1953</td>\n",
       "      <td>118</td>\n",
       "      <td>Drama, Romance, War</td>\n",
       "      <td>7.6</td>\n",
       "      <td>85.0</td>\n",
       "      <td>In Hawaii in 1941, a private is cruelly punish...</td>\n",
       "      <td>44,086</td>\n",
       "      <td>$30.50M</td>\n",
       "    </tr>\n",
       "    <tr>\n",
       "      <th>999</th>\n",
       "      <td>999</td>\n",
       "      <td>Lifeboat</td>\n",
       "      <td>1944</td>\n",
       "      <td>97</td>\n",
       "      <td>Drama, War</td>\n",
       "      <td>7.6</td>\n",
       "      <td>78.0</td>\n",
       "      <td>Several survivors of a torpedoed merchant ship...</td>\n",
       "      <td>26,903</td>\n",
       "      <td>NaN</td>\n",
       "    </tr>\n",
       "  </tbody>\n",
       "</table>\n",
       "<p>1000 rows × 10 columns</p>\n",
       "</div>"
      ],
      "text/plain": [
       "     Unnamed: 0                      name  year  runtime  \\\n",
       "0             0  The Shawshank Redemption  1994      142   \n",
       "1             1             The Godfather  1972      175   \n",
       "2             2           Soorarai Pottru  2020      153   \n",
       "3             3           The Dark Knight  2008      152   \n",
       "4             4    The Godfather: Part II  1974      202   \n",
       "..          ...                       ...   ...      ...   \n",
       "995         995    Breakfast at Tiffany's  1961      115   \n",
       "996         996                     Giant  1956      201   \n",
       "997         997                     Shane  1953      118   \n",
       "998         998     From Here to Eternity  1953      118   \n",
       "999         999                  Lifeboat  1944       97   \n",
       "\n",
       "                      genre  rating  metascore  \\\n",
       "0                     Drama     9.3       80.0   \n",
       "1              Crime, Drama     9.2      100.0   \n",
       "2                     Drama     9.1        NaN   \n",
       "3      Action, Crime, Drama     9.0       84.0   \n",
       "4              Crime, Drama     9.0       90.0   \n",
       "..                      ...     ...        ...   \n",
       "995  Comedy, Drama, Romance     7.6       76.0   \n",
       "996          Drama, Western     7.6       84.0   \n",
       "997          Drama, Western     7.6       80.0   \n",
       "998     Drama, Romance, War     7.6       85.0   \n",
       "999              Drama, War     7.6       78.0   \n",
       "\n",
       "                                              timeline      votes     gross  \n",
       "0    Two imprisoned men bond over a number of years...  2,394,059   $28.34M  \n",
       "1    An organized crime dynasty's aging patriarch t...  1,658,439  $134.97M  \n",
       "2    Nedumaaran Rajangam \"Maara\" sets out to make t...     78,266       NaN  \n",
       "3    When the menace known as the Joker wreaks havo...  2,355,907  $534.86M  \n",
       "4    The early life and career of Vito Corleone in ...  1,152,912   $57.30M  \n",
       "..                                                 ...        ...       ...  \n",
       "995  A young New York socialite becomes interested ...    169,575       NaN  \n",
       "996  Sprawling epic covering the life of a Texas ca...     34,759       NaN  \n",
       "997  A weary gunfighter attempts to settle down wit...     37,753   $20.00M  \n",
       "998  In Hawaii in 1941, a private is cruelly punish...     44,086   $30.50M  \n",
       "999  Several survivors of a torpedoed merchant ship...     26,903       NaN  \n",
       "\n",
       "[1000 rows x 10 columns]"
      ]
     },
     "execution_count": 3,
     "metadata": {},
     "output_type": "execute_result"
    }
   ],
   "source": [
    "pd.read_csv('https://raw.githubusercontent.com/Waderonan/UCDPA_RonanWade/main/IMDB_movie_reviews_details.csv')"
   ]
  },
  {
   "cell_type": "code",
   "execution_count": 4,
   "metadata": {},
   "outputs": [
    {
     "name": "stdout",
     "output_type": "stream",
     "text": [
      "   Unnamed: 0                      name  year  runtime                 genre  \\\n",
      "0           0  The Shawshank Redemption  1994      142                 Drama   \n",
      "1           1             The Godfather  1972      175          Crime, Drama   \n",
      "2           2           Soorarai Pottru  2020      153                 Drama   \n",
      "3           3           The Dark Knight  2008      152  Action, Crime, Drama   \n",
      "4           4    The Godfather: Part II  1974      202          Crime, Drama   \n",
      "\n",
      "   rating  metascore                                           timeline  \\\n",
      "0     9.3       80.0  Two imprisoned men bond over a number of years...   \n",
      "1     9.2      100.0  An organized crime dynasty's aging patriarch t...   \n",
      "2     9.1        NaN  Nedumaaran Rajangam \"Maara\" sets out to make t...   \n",
      "3     9.0       84.0  When the menace known as the Joker wreaks havo...   \n",
      "4     9.0       90.0  The early life and career of Vito Corleone in ...   \n",
      "\n",
      "       votes     gross  \n",
      "0  2,394,059   $28.34M  \n",
      "1  1,658,439  $134.97M  \n",
      "2     78,266       NaN  \n",
      "3  2,355,907  $534.86M  \n",
      "4  1,152,912   $57.30M  \n"
     ]
    }
   ],
   "source": [
    "movies = pd.read_csv('https://raw.githubusercontent.com/Waderonan/UCDPA_RonanWade/main/IMDB_movie_reviews_details.csv')\n",
    "print(movies.head())"
   ]
  },
  {
   "cell_type": "code",
   "execution_count": 5,
   "metadata": {},
   "outputs": [],
   "source": [
    "import matplotlib.pyplot as plt\n",
    "import seaborn as sns\n",
    "import numpy as np"
   ]
  },
  {
   "cell_type": "code",
   "execution_count": 6,
   "metadata": {},
   "outputs": [
    {
     "data": {
      "text/plain": [
       "Unnamed: 0      0\n",
       "name            0\n",
       "year            0\n",
       "runtime         0\n",
       "genre           0\n",
       "rating          0\n",
       "metascore     159\n",
       "timeline        0\n",
       "votes           0\n",
       "gross         171\n",
       "dtype: int64"
      ]
     },
     "execution_count": 6,
     "metadata": {},
     "output_type": "execute_result"
    }
   ],
   "source": [
    "movies.isnull().sum()"
   ]
  },
  {
   "cell_type": "code",
   "execution_count": 7,
   "metadata": {},
   "outputs": [
    {
     "name": "stdout",
     "output_type": "stream",
     "text": [
      "<class 'pandas.core.frame.DataFrame'>\n",
      "RangeIndex: 1000 entries, 0 to 999\n",
      "Data columns (total 10 columns):\n",
      " #   Column      Non-Null Count  Dtype  \n",
      "---  ------      --------------  -----  \n",
      " 0   Unnamed: 0  1000 non-null   int64  \n",
      " 1   name        1000 non-null   object \n",
      " 2   year        1000 non-null   object \n",
      " 3   runtime     1000 non-null   int64  \n",
      " 4   genre       1000 non-null   object \n",
      " 5   rating      1000 non-null   float64\n",
      " 6   metascore   841 non-null    float64\n",
      " 7   timeline    1000 non-null   object \n",
      " 8   votes       1000 non-null   object \n",
      " 9   gross       829 non-null    object \n",
      "dtypes: float64(2), int64(2), object(6)\n",
      "memory usage: 78.2+ KB\n",
      "None\n"
     ]
    }
   ],
   "source": [
    "print(movies.info())"
   ]
  },
  {
   "cell_type": "code",
   "execution_count": 8,
   "metadata": {},
   "outputs": [
    {
     "name": "stdout",
     "output_type": "stream",
     "text": [
      "RangeIndex(start=0, stop=1000, step=1)\n"
     ]
    }
   ],
   "source": [
    "print(movies.index)"
   ]
  },
  {
   "cell_type": "code",
   "execution_count": 9,
   "metadata": {},
   "outputs": [
    {
     "name": "stdout",
     "output_type": "stream",
     "text": [
      "        Unnamed: 0      runtime       rating   metascore\n",
      "count  1000.000000  1000.000000  1000.000000  841.000000\n",
      "mean    499.500000   123.017000     7.954000   78.158145\n",
      "std     288.819436    28.212598     0.276008   12.289270\n",
      "min       0.000000    45.000000     7.600000   28.000000\n",
      "25%     249.750000   103.000000     7.700000   71.000000\n",
      "50%     499.500000   119.000000     7.900000   79.000000\n",
      "75%     749.250000   137.000000     8.100000   87.000000\n",
      "max     999.000000   321.000000     9.300000  100.000000\n"
     ]
    }
   ],
   "source": [
    "print(movies.describe())"
   ]
  },
  {
   "cell_type": "code",
   "execution_count": 10,
   "metadata": {},
   "outputs": [
    {
     "name": "stdout",
     "output_type": "stream",
     "text": [
      "Unnamed: 0      int64\n",
      "name           object\n",
      "year           object\n",
      "runtime         int64\n",
      "genre          object\n",
      "rating        float64\n",
      "metascore     float64\n",
      "timeline       object\n",
      "votes          object\n",
      "gross          object\n",
      "dtype: object\n"
     ]
    }
   ],
   "source": [
    "print(movies.dtypes)"
   ]
  },
  {
   "cell_type": "code",
   "execution_count": 11,
   "metadata": {},
   "outputs": [
    {
     "data": {
      "text/plain": [
       "Index(['Unnamed: 0', 'name', 'year', 'runtime', 'genre', 'rating', 'metascore',\n",
       "       'timeline', 'votes', 'gross'],\n",
       "      dtype='object')"
      ]
     },
     "execution_count": 11,
     "metadata": {},
     "output_type": "execute_result"
    }
   ],
   "source": [
    "movies.columns"
   ]
  },
  {
   "cell_type": "code",
   "execution_count": 12,
   "metadata": {},
   "outputs": [
    {
     "data": {
      "text/plain": [
       "Unnamed: 0      int64\n",
       "name           object\n",
       "year           object\n",
       "runtime         int64\n",
       "genre          object\n",
       "rating        float64\n",
       "metascore     float64\n",
       "timeline       object\n",
       "votes          object\n",
       "gross          object\n",
       "dtype: object"
      ]
     },
     "execution_count": 12,
     "metadata": {},
     "output_type": "execute_result"
    }
   ],
   "source": [
    "movies.dtypes"
   ]
  },
  {
   "cell_type": "code",
   "execution_count": 13,
   "metadata": {},
   "outputs": [
    {
     "data": {
      "text/html": [
       "<div>\n",
       "<style scoped>\n",
       "    .dataframe tbody tr th:only-of-type {\n",
       "        vertical-align: middle;\n",
       "    }\n",
       "\n",
       "    .dataframe tbody tr th {\n",
       "        vertical-align: top;\n",
       "    }\n",
       "\n",
       "    .dataframe thead th {\n",
       "        text-align: right;\n",
       "    }\n",
       "</style>\n",
       "<table border=\"1\" class=\"dataframe\">\n",
       "  <thead>\n",
       "    <tr style=\"text-align: right;\">\n",
       "      <th></th>\n",
       "      <th>Unnamed: 0</th>\n",
       "      <th>name</th>\n",
       "      <th>year</th>\n",
       "      <th>runtime</th>\n",
       "      <th>genre</th>\n",
       "      <th>rating</th>\n",
       "      <th>metascore</th>\n",
       "      <th>timeline</th>\n",
       "      <th>votes</th>\n",
       "      <th>gross</th>\n",
       "    </tr>\n",
       "  </thead>\n",
       "  <tbody>\n",
       "    <tr>\n",
       "      <th>0</th>\n",
       "      <td>0</td>\n",
       "      <td>The Shawshank Redemption</td>\n",
       "      <td>1994</td>\n",
       "      <td>142</td>\n",
       "      <td>Drama</td>\n",
       "      <td>9.3</td>\n",
       "      <td>80.0</td>\n",
       "      <td>Two imprisoned men bond over a number of years...</td>\n",
       "      <td>2,394,059</td>\n",
       "      <td>$28.34M</td>\n",
       "    </tr>\n",
       "    <tr>\n",
       "      <th>1</th>\n",
       "      <td>1</td>\n",
       "      <td>The Godfather</td>\n",
       "      <td>1972</td>\n",
       "      <td>175</td>\n",
       "      <td>Crime, Drama</td>\n",
       "      <td>9.2</td>\n",
       "      <td>100.0</td>\n",
       "      <td>An organized crime dynasty's aging patriarch t...</td>\n",
       "      <td>1,658,439</td>\n",
       "      <td>$134.97M</td>\n",
       "    </tr>\n",
       "    <tr>\n",
       "      <th>2</th>\n",
       "      <td>2</td>\n",
       "      <td>Soorarai Pottru</td>\n",
       "      <td>2020</td>\n",
       "      <td>153</td>\n",
       "      <td>Drama</td>\n",
       "      <td>9.1</td>\n",
       "      <td>NaN</td>\n",
       "      <td>Nedumaaran Rajangam \"Maara\" sets out to make t...</td>\n",
       "      <td>78,266</td>\n",
       "      <td>NaN</td>\n",
       "    </tr>\n",
       "    <tr>\n",
       "      <th>3</th>\n",
       "      <td>3</td>\n",
       "      <td>The Dark Knight</td>\n",
       "      <td>2008</td>\n",
       "      <td>152</td>\n",
       "      <td>Action, Crime, Drama</td>\n",
       "      <td>9.0</td>\n",
       "      <td>84.0</td>\n",
       "      <td>When the menace known as the Joker wreaks havo...</td>\n",
       "      <td>2,355,907</td>\n",
       "      <td>$534.86M</td>\n",
       "    </tr>\n",
       "    <tr>\n",
       "      <th>4</th>\n",
       "      <td>4</td>\n",
       "      <td>The Godfather: Part II</td>\n",
       "      <td>1974</td>\n",
       "      <td>202</td>\n",
       "      <td>Crime, Drama</td>\n",
       "      <td>9.0</td>\n",
       "      <td>90.0</td>\n",
       "      <td>The early life and career of Vito Corleone in ...</td>\n",
       "      <td>1,152,912</td>\n",
       "      <td>$57.30M</td>\n",
       "    </tr>\n",
       "    <tr>\n",
       "      <th>5</th>\n",
       "      <td>5</td>\n",
       "      <td>12 Angry Men</td>\n",
       "      <td>1957</td>\n",
       "      <td>96</td>\n",
       "      <td>Crime, Drama</td>\n",
       "      <td>9.0</td>\n",
       "      <td>96.0</td>\n",
       "      <td>A jury holdout attempts to prevent a miscarria...</td>\n",
       "      <td>706,079</td>\n",
       "      <td>$4.36M</td>\n",
       "    </tr>\n",
       "    <tr>\n",
       "      <th>6</th>\n",
       "      <td>6</td>\n",
       "      <td>The Lord of the Rings: The Return of the King</td>\n",
       "      <td>2003</td>\n",
       "      <td>201</td>\n",
       "      <td>Action, Adventure, Drama</td>\n",
       "      <td>8.9</td>\n",
       "      <td>94.0</td>\n",
       "      <td>Gandalf and Aragorn lead the World of Men agai...</td>\n",
       "      <td>1,672,460</td>\n",
       "      <td>$377.85M</td>\n",
       "    </tr>\n",
       "    <tr>\n",
       "      <th>7</th>\n",
       "      <td>7</td>\n",
       "      <td>Pulp Fiction</td>\n",
       "      <td>1994</td>\n",
       "      <td>154</td>\n",
       "      <td>Crime, Drama</td>\n",
       "      <td>8.9</td>\n",
       "      <td>94.0</td>\n",
       "      <td>The lives of two mob hitmen, a boxer, a gangst...</td>\n",
       "      <td>1,862,472</td>\n",
       "      <td>$107.93M</td>\n",
       "    </tr>\n",
       "    <tr>\n",
       "      <th>8</th>\n",
       "      <td>8</td>\n",
       "      <td>Schindler's List</td>\n",
       "      <td>1993</td>\n",
       "      <td>195</td>\n",
       "      <td>Biography, Drama, History</td>\n",
       "      <td>8.9</td>\n",
       "      <td>94.0</td>\n",
       "      <td>In German-occupied Poland during World War II,...</td>\n",
       "      <td>1,236,213</td>\n",
       "      <td>$96.90M</td>\n",
       "    </tr>\n",
       "    <tr>\n",
       "      <th>9</th>\n",
       "      <td>9</td>\n",
       "      <td>Inception</td>\n",
       "      <td>2010</td>\n",
       "      <td>148</td>\n",
       "      <td>Action, Adventure, Sci-Fi</td>\n",
       "      <td>8.8</td>\n",
       "      <td>74.0</td>\n",
       "      <td>A thief who steals corporate secrets through t...</td>\n",
       "      <td>2,113,984</td>\n",
       "      <td>$292.58M</td>\n",
       "    </tr>\n",
       "  </tbody>\n",
       "</table>\n",
       "</div>"
      ],
      "text/plain": [
       "   Unnamed: 0                                           name  year  runtime  \\\n",
       "0           0                       The Shawshank Redemption  1994      142   \n",
       "1           1                                  The Godfather  1972      175   \n",
       "2           2                                Soorarai Pottru  2020      153   \n",
       "3           3                                The Dark Knight  2008      152   \n",
       "4           4                         The Godfather: Part II  1974      202   \n",
       "5           5                                   12 Angry Men  1957       96   \n",
       "6           6  The Lord of the Rings: The Return of the King  2003      201   \n",
       "7           7                                   Pulp Fiction  1994      154   \n",
       "8           8                               Schindler's List  1993      195   \n",
       "9           9                                      Inception  2010      148   \n",
       "\n",
       "                       genre  rating  metascore  \\\n",
       "0                      Drama     9.3       80.0   \n",
       "1               Crime, Drama     9.2      100.0   \n",
       "2                      Drama     9.1        NaN   \n",
       "3       Action, Crime, Drama     9.0       84.0   \n",
       "4               Crime, Drama     9.0       90.0   \n",
       "5               Crime, Drama     9.0       96.0   \n",
       "6   Action, Adventure, Drama     8.9       94.0   \n",
       "7               Crime, Drama     8.9       94.0   \n",
       "8  Biography, Drama, History     8.9       94.0   \n",
       "9  Action, Adventure, Sci-Fi     8.8       74.0   \n",
       "\n",
       "                                            timeline      votes     gross  \n",
       "0  Two imprisoned men bond over a number of years...  2,394,059   $28.34M  \n",
       "1  An organized crime dynasty's aging patriarch t...  1,658,439  $134.97M  \n",
       "2  Nedumaaran Rajangam \"Maara\" sets out to make t...     78,266       NaN  \n",
       "3  When the menace known as the Joker wreaks havo...  2,355,907  $534.86M  \n",
       "4  The early life and career of Vito Corleone in ...  1,152,912   $57.30M  \n",
       "5  A jury holdout attempts to prevent a miscarria...    706,079    $4.36M  \n",
       "6  Gandalf and Aragorn lead the World of Men agai...  1,672,460  $377.85M  \n",
       "7  The lives of two mob hitmen, a boxer, a gangst...  1,862,472  $107.93M  \n",
       "8  In German-occupied Poland during World War II,...  1,236,213   $96.90M  \n",
       "9  A thief who steals corporate secrets through t...  2,113,984  $292.58M  "
      ]
     },
     "execution_count": 13,
     "metadata": {},
     "output_type": "execute_result"
    }
   ],
   "source": [
    "movies[0:10]"
   ]
  },
  {
   "cell_type": "code",
   "execution_count": 14,
   "metadata": {},
   "outputs": [
    {
     "data": {
      "text/html": [
       "<div>\n",
       "<style scoped>\n",
       "    .dataframe tbody tr th:only-of-type {\n",
       "        vertical-align: middle;\n",
       "    }\n",
       "\n",
       "    .dataframe tbody tr th {\n",
       "        vertical-align: top;\n",
       "    }\n",
       "\n",
       "    .dataframe thead th {\n",
       "        text-align: right;\n",
       "    }\n",
       "</style>\n",
       "<table border=\"1\" class=\"dataframe\">\n",
       "  <thead>\n",
       "    <tr style=\"text-align: right;\">\n",
       "      <th></th>\n",
       "      <th>name</th>\n",
       "      <th>year</th>\n",
       "      <th>runtime</th>\n",
       "      <th>genre</th>\n",
       "      <th>rating</th>\n",
       "      <th>metascore</th>\n",
       "    </tr>\n",
       "  </thead>\n",
       "  <tbody>\n",
       "    <tr>\n",
       "      <th>0</th>\n",
       "      <td>The Shawshank Redemption</td>\n",
       "      <td>1994</td>\n",
       "      <td>142</td>\n",
       "      <td>Drama</td>\n",
       "      <td>9.3</td>\n",
       "      <td>80.0</td>\n",
       "    </tr>\n",
       "    <tr>\n",
       "      <th>1</th>\n",
       "      <td>The Godfather</td>\n",
       "      <td>1972</td>\n",
       "      <td>175</td>\n",
       "      <td>Crime, Drama</td>\n",
       "      <td>9.2</td>\n",
       "      <td>100.0</td>\n",
       "    </tr>\n",
       "    <tr>\n",
       "      <th>2</th>\n",
       "      <td>Soorarai Pottru</td>\n",
       "      <td>2020</td>\n",
       "      <td>153</td>\n",
       "      <td>Drama</td>\n",
       "      <td>9.1</td>\n",
       "      <td>NaN</td>\n",
       "    </tr>\n",
       "    <tr>\n",
       "      <th>3</th>\n",
       "      <td>The Dark Knight</td>\n",
       "      <td>2008</td>\n",
       "      <td>152</td>\n",
       "      <td>Action, Crime, Drama</td>\n",
       "      <td>9.0</td>\n",
       "      <td>84.0</td>\n",
       "    </tr>\n",
       "    <tr>\n",
       "      <th>4</th>\n",
       "      <td>The Godfather: Part II</td>\n",
       "      <td>1974</td>\n",
       "      <td>202</td>\n",
       "      <td>Crime, Drama</td>\n",
       "      <td>9.0</td>\n",
       "      <td>90.0</td>\n",
       "    </tr>\n",
       "    <tr>\n",
       "      <th>5</th>\n",
       "      <td>12 Angry Men</td>\n",
       "      <td>1957</td>\n",
       "      <td>96</td>\n",
       "      <td>Crime, Drama</td>\n",
       "      <td>9.0</td>\n",
       "      <td>96.0</td>\n",
       "    </tr>\n",
       "    <tr>\n",
       "      <th>6</th>\n",
       "      <td>The Lord of the Rings: The Return of the King</td>\n",
       "      <td>2003</td>\n",
       "      <td>201</td>\n",
       "      <td>Action, Adventure, Drama</td>\n",
       "      <td>8.9</td>\n",
       "      <td>94.0</td>\n",
       "    </tr>\n",
       "    <tr>\n",
       "      <th>7</th>\n",
       "      <td>Pulp Fiction</td>\n",
       "      <td>1994</td>\n",
       "      <td>154</td>\n",
       "      <td>Crime, Drama</td>\n",
       "      <td>8.9</td>\n",
       "      <td>94.0</td>\n",
       "    </tr>\n",
       "    <tr>\n",
       "      <th>8</th>\n",
       "      <td>Schindler's List</td>\n",
       "      <td>1993</td>\n",
       "      <td>195</td>\n",
       "      <td>Biography, Drama, History</td>\n",
       "      <td>8.9</td>\n",
       "      <td>94.0</td>\n",
       "    </tr>\n",
       "    <tr>\n",
       "      <th>9</th>\n",
       "      <td>Inception</td>\n",
       "      <td>2010</td>\n",
       "      <td>148</td>\n",
       "      <td>Action, Adventure, Sci-Fi</td>\n",
       "      <td>8.8</td>\n",
       "      <td>74.0</td>\n",
       "    </tr>\n",
       "  </tbody>\n",
       "</table>\n",
       "</div>"
      ],
      "text/plain": [
       "                                            name  year  runtime  \\\n",
       "0                       The Shawshank Redemption  1994      142   \n",
       "1                                  The Godfather  1972      175   \n",
       "2                                Soorarai Pottru  2020      153   \n",
       "3                                The Dark Knight  2008      152   \n",
       "4                         The Godfather: Part II  1974      202   \n",
       "5                                   12 Angry Men  1957       96   \n",
       "6  The Lord of the Rings: The Return of the King  2003      201   \n",
       "7                                   Pulp Fiction  1994      154   \n",
       "8                               Schindler's List  1993      195   \n",
       "9                                      Inception  2010      148   \n",
       "\n",
       "                       genre  rating  metascore  \n",
       "0                      Drama     9.3       80.0  \n",
       "1               Crime, Drama     9.2      100.0  \n",
       "2                      Drama     9.1        NaN  \n",
       "3       Action, Crime, Drama     9.0       84.0  \n",
       "4               Crime, Drama     9.0       90.0  \n",
       "5               Crime, Drama     9.0       96.0  \n",
       "6   Action, Adventure, Drama     8.9       94.0  \n",
       "7               Crime, Drama     8.9       94.0  \n",
       "8  Biography, Drama, History     8.9       94.0  \n",
       "9  Action, Adventure, Sci-Fi     8.8       74.0  "
      ]
     },
     "execution_count": 14,
     "metadata": {},
     "output_type": "execute_result"
    }
   ],
   "source": [
    "movies.iloc[0:10, 1:7]"
   ]
  },
  {
   "cell_type": "code",
   "execution_count": 16,
   "metadata": {},
   "outputs": [
    {
     "data": {
      "text/plain": [
       "2004        30\n",
       "2009        29\n",
       "2014        28\n",
       "2013        26\n",
       "2006        26\n",
       "            ..\n",
       "III 2016     1\n",
       "1920         1\n",
       "I 2020       1\n",
       "I 2008       1\n",
       "1922         1\n",
       "Name: year, Length: 118, dtype: int64"
      ]
     },
     "execution_count": 16,
     "metadata": {},
     "output_type": "execute_result"
    }
   ],
   "source": [
    "movies[\"year\"].value_counts()"
   ]
  },
  {
   "cell_type": "code",
   "execution_count": 17,
   "metadata": {},
   "outputs": [],
   "source": [
    "movies.gross.fillna(\"unknown\",inplace= True)"
   ]
  },
  {
   "cell_type": "code",
   "execution_count": 18,
   "metadata": {},
   "outputs": [
    {
     "data": {
      "text/plain": [
       "array(['Drama', 'Crime, Drama', 'Action, Crime, Drama',\n",
       "       'Action, Adventure, Drama', 'Biography, Drama, History',\n",
       "       'Action, Adventure, Sci-Fi', 'Drama, Romance', 'Western',\n",
       "       'Action, Sci-Fi', 'Biography, Crime, Drama',\n",
       "       'Action, Adventure, Fantasy', 'Comedy, Drama, Thriller',\n",
       "       'Adventure, Drama, Sci-Fi', 'Animation, Adventure, Family',\n",
       "       'Drama, War', 'Crime, Drama, Fantasy', 'Comedy, Drama, Romance',\n",
       "       'Crime, Drama, Mystery', 'Crime, Drama, Thriller',\n",
       "       'Action, Drama, Mystery', 'Drama, Family, Fantasy',\n",
       "       'Action, Crime, Thriller', 'Drama, Music',\n",
       "       'Biography, Comedy, Drama', 'Drama, Mystery, Sci-Fi',\n",
       "       'Biography, Drama, Music', 'Crime, Mystery, Thriller',\n",
       "       'Animation, Adventure, Drama', 'Animation, Drama, War',\n",
       "       'Adventure, Comedy, Sci-Fi', 'Horror, Mystery, Thriller',\n",
       "       'Mystery, Thriller', 'Drama, Romance, War',\n",
       "       'Comedy, Drama, Family', 'Animation, Drama, Fantasy',\n",
       "       'Action, Biography, Drama', 'Animation, Action, Adventure',\n",
       "       'Drama, Western', 'Action, Adventure', 'Comedy, Drama',\n",
       "       'Drama, Family', 'Drama, Mystery, Thriller', 'Drama, Horror',\n",
       "       'Drama, Mystery, War', 'Horror, Sci-Fi', 'Comedy',\n",
       "       'Drama, Film-Noir', 'Comedy, Drama, War', 'Drama, Thriller, War',\n",
       "       'Drama, Fantasy, Horror', 'Adventure, Drama, War',\n",
       "       'Drama, Romance, Sci-Fi', 'Comedy, Romance', 'Comedy, Crime',\n",
       "       'Drama, Family, Sport', 'Animation, Adventure, Comedy',\n",
       "       'Adventure, Drama, Thriller', 'Comedy, Crime, Drama',\n",
       "       'Crime, Drama, Sci-Fi', 'Drama, Musical', 'Adventure, Sci-Fi',\n",
       "       'Adventure, Biography, Drama', 'Adventure, Mystery, Thriller',\n",
       "       'Mystery, Romance, Thriller', 'Comedy, Musical, Romance',\n",
       "       'Crime, Drama, Film-Noir', 'Drama, Mystery', 'Drama, Sci-Fi',\n",
       "       'Action, Drama, War', 'Crime, Drama, Music', 'Action, Drama',\n",
       "       'Animation, Drama, Family', 'Adventure, Comedy, Drama',\n",
       "       'Biography, Drama, Sport', 'Action, Comedy, Crime',\n",
       "       'Action, Biography, Crime', 'Drama, Mystery, Romance',\n",
       "       'Drama, Fantasy, War', 'Biography, Drama',\n",
       "       'Animation, Family, Fantasy', 'Action, Thriller',\n",
       "       'Action, Adventure, Comedy', 'Adventure, Comedy, Fantasy',\n",
       "       'Adventure, Drama, History', 'Action, Drama, Thriller',\n",
       "       'Comedy, Music, Romance', 'Drama, Fantasy, History',\n",
       "       'Crime, Thriller', 'Adventure, Drama, Western',\n",
       "       'Comedy, Romance, War', 'Action, Comedy, Romance',\n",
       "       'Drama, Romance, Thriller', 'Action, Drama, Sci-Fi',\n",
       "       'Drama, Thriller', 'Comedy, Drama, Musical',\n",
       "       'Comedy, Drama, Fantasy', 'Adventure, Comedy, Crime',\n",
       "       'Action, Drama, Sport', 'Adventure, Drama, Fantasy',\n",
       "       'Biography, Drama, Family', 'Animation, Comedy, Drama',\n",
       "       'Drama, Sport', 'Animation, Action, Drama',\n",
       "       'Drama, Musical, Sport', 'Drama, Music, Romance',\n",
       "       'Comedy, Crime, Romance', 'Comedy, Crime, Sport',\n",
       "       'Drama, History, Romance', 'Adventure, Family, Fantasy',\n",
       "       'Adventure, Drama', 'Animation, Adventure, Fantasy',\n",
       "       'Horror, Mystery, Sci-Fi', 'Action, Sci-Fi, Thriller',\n",
       "       'Drama, Fantasy', 'Drama, Horror, Thriller', 'Drama, History',\n",
       "       'Crime, Drama, Horror', 'Film-Noir, Mystery, Thriller',\n",
       "       'Fantasy, Horror, Mystery', 'Comedy, Drama, Music',\n",
       "       'Biography, Drama, Thriller', 'Animation, Biography, Drama',\n",
       "       'Action, Mystery, Thriller', 'Crime, Drama, Romance',\n",
       "       'Action, Adventure, Thriller', 'Crime, Drama, Musical',\n",
       "       'Animation, Crime, Mystery', 'Mystery, Sci-Fi, Thriller',\n",
       "       'Animation, Action, Crime', 'Comedy, Fantasy, Romance',\n",
       "       'Drama, History, Thriller', 'Animation, Action, Sci-Fi',\n",
       "       'Drama, Fantasy, Romance', 'Drama, Fantasy, Music',\n",
       "       'Drama, History, War', 'Adventure, Thriller', 'Horror',\n",
       "       'Drama, Family, Musical', 'Action, Drama, Western',\n",
       "       'Drama, Thriller, Western', 'Crime, Film-Noir, Thriller',\n",
       "       'Drama, Film-Noir, Mystery', 'Drama, Film-Noir, Romance',\n",
       "       'Comedy, Crime, Thriller', 'Crime, Film-Noir, Mystery',\n",
       "       'Comedy, Crime, Mystery', 'Drama, Fantasy, Mystery',\n",
       "       'Comedy, Horror', 'Action, Adventure, History',\n",
       "       'Action, Crime, Comedy', 'Drama, Music, Mystery', 'Comedy, Music',\n",
       "       'Comedy, Family', 'Drama, Music, Musical', 'Horror, Thriller',\n",
       "       'Action, Adventure, Biography', 'Biography, Drama, War',\n",
       "       'Action, Adventure, Western', 'Comedy, Mystery, Romance',\n",
       "       'Comedy, Family, Romance', 'Action, Adventure, Romance',\n",
       "       'Comedy, Music, Musical', 'Adventure, Horror, Sci-Fi',\n",
       "       'Fantasy, Horror', 'Action, Drama, History',\n",
       "       'Animation, Biography, Crime', 'Adventure, Biography, Crime',\n",
       "       'Adventure, Fantasy', 'Drama, History, Mystery',\n",
       "       'Action, Comedy, Mystery', 'Adventure, Drama, Romance',\n",
       "       'Drama, Sci-Fi, Thriller', 'Crime, Drama, History',\n",
       "       'Adventure, Comedy, Family', 'Action, Comedy, Fantasy',\n",
       "       'Family, Sci-Fi', 'Adventure, History, War', 'Animation, Sci-Fi',\n",
       "       'Family, Fantasy, Musical', 'Thriller', 'Comedy, Family, Fantasy',\n",
       "       'Adventure, Comedy, Film-Noir', 'Film-Noir, Thriller',\n",
       "       'Drama, Horror, Sci-Fi', 'Comedy, Musical, War',\n",
       "       'Biography, Drama, Romance', 'Drama, History, Music',\n",
       "       'Animation, Action, Fantasy', 'Animation, Comedy, Fantasy',\n",
       "       'Comedy, War', 'Comedy, Western', 'Action, Adventure, War',\n",
       "       'Drama, Horror, Mystery', 'Animation, Comedy, Crime',\n",
       "       'Action, Adventure, Crime', 'Action, Adventure, Mystery',\n",
       "       'Action, Adventure, Family', 'Action, Crime, Mystery',\n",
       "       'Fantasy, Mystery, Sci-Fi', 'Animation, Drama, Romance',\n",
       "       'Drama, War, Western', 'Adventure, Comedy, War', 'Comedy, Musical'],\n",
       "      dtype=object)"
      ]
     },
     "execution_count": 18,
     "metadata": {},
     "output_type": "execute_result"
    }
   ],
   "source": [
    "pd.unique(movies['genre'])"
   ]
  },
  {
   "cell_type": "code",
   "execution_count": 21,
   "metadata": {},
   "outputs": [
    {
     "data": {
      "text/plain": [
       "1000"
      ]
     },
     "execution_count": 21,
     "metadata": {},
     "output_type": "execute_result"
    }
   ],
   "source": [
    "movies['year'].count()"
   ]
  },
  {
   "cell_type": "code",
   "execution_count": 22,
   "metadata": {},
   "outputs": [
    {
     "name": "stdout",
     "output_type": "stream",
     "text": [
      "                          Unnamed: 0  year  runtime                   genre  \\\n",
      "name                                                                          \n",
      "The Shawshank Redemption           0  1994      142                   Drama   \n",
      "The Godfather                      1  1972      175            Crime, Drama   \n",
      "Soorarai Pottru                    2  2020      153                   Drama   \n",
      "The Dark Knight                    3  2008      152    Action, Crime, Drama   \n",
      "The Godfather: Part II             4  1974      202            Crime, Drama   \n",
      "...                              ...   ...      ...                     ...   \n",
      "Breakfast at Tiffany's           995  1961      115  Comedy, Drama, Romance   \n",
      "Giant                            996  1956      201          Drama, Western   \n",
      "Shane                            997  1953      118          Drama, Western   \n",
      "From Here to Eternity            998  1953      118     Drama, Romance, War   \n",
      "Lifeboat                         999  1944       97              Drama, War   \n",
      "\n",
      "                          rating  metascore  \\\n",
      "name                                          \n",
      "The Shawshank Redemption     9.3       80.0   \n",
      "The Godfather                9.2      100.0   \n",
      "Soorarai Pottru              9.1        NaN   \n",
      "The Dark Knight              9.0       84.0   \n",
      "The Godfather: Part II       9.0       90.0   \n",
      "...                          ...        ...   \n",
      "Breakfast at Tiffany's       7.6       76.0   \n",
      "Giant                        7.6       84.0   \n",
      "Shane                        7.6       80.0   \n",
      "From Here to Eternity        7.6       85.0   \n",
      "Lifeboat                     7.6       78.0   \n",
      "\n",
      "                                                                   timeline  \\\n",
      "name                                                                          \n",
      "The Shawshank Redemption  Two imprisoned men bond over a number of years...   \n",
      "The Godfather             An organized crime dynasty's aging patriarch t...   \n",
      "Soorarai Pottru           Nedumaaran Rajangam \"Maara\" sets out to make t...   \n",
      "The Dark Knight           When the menace known as the Joker wreaks havo...   \n",
      "The Godfather: Part II    The early life and career of Vito Corleone in ...   \n",
      "...                                                                     ...   \n",
      "Breakfast at Tiffany's    A young New York socialite becomes interested ...   \n",
      "Giant                     Sprawling epic covering the life of a Texas ca...   \n",
      "Shane                     A weary gunfighter attempts to settle down wit...   \n",
      "From Here to Eternity     In Hawaii in 1941, a private is cruelly punish...   \n",
      "Lifeboat                  Several survivors of a torpedoed merchant ship...   \n",
      "\n",
      "                              votes     gross  \n",
      "name                                           \n",
      "The Shawshank Redemption  2,394,059   $28.34M  \n",
      "The Godfather             1,658,439  $134.97M  \n",
      "Soorarai Pottru              78,266   unknown  \n",
      "The Dark Knight           2,355,907  $534.86M  \n",
      "The Godfather: Part II    1,152,912   $57.30M  \n",
      "...                             ...       ...  \n",
      "Breakfast at Tiffany's      169,575   unknown  \n",
      "Giant                        34,759   unknown  \n",
      "Shane                        37,753   $20.00M  \n",
      "From Here to Eternity        44,086   $30.50M  \n",
      "Lifeboat                     26,903   unknown  \n",
      "\n",
      "[1000 rows x 9 columns]\n"
     ]
    }
   ],
   "source": [
    "print(movies.set_index(\"name\"))"
   ]
  },
  {
   "cell_type": "code",
   "execution_count": 29,
   "metadata": {},
   "outputs": [
    {
     "name": "stderr",
     "output_type": "stream",
     "text": [
      "C:\\Users\\Wader\\Anaconda3\\lib\\site-packages\\seaborn\\_decorators.py:36: FutureWarning: Pass the following variables as keyword args: x, y. From version 0.12, the only valid positional argument will be `data`, and passing other arguments without an explicit keyword will result in an error or misinterpretation.\n",
      "  warnings.warn(\n"
     ]
    },
    {
     "data": {
      "text/plain": [
       "Text(0.5, 1.0, 'Ranking of Movies by Genre')"
      ]
     },
     "execution_count": 29,
     "metadata": {},
     "output_type": "execute_result"
    },
    {
     "data": {
      "image/png": "[encoded data removed]",
      "text/plain": [
       "<Figure size 720x720 with 1 Axes>"
      ]
     },
     "metadata": {
      "needs_background": "light"
     },
     "output_type": "display_data"
    }
   ],
   "source": [
    "x=movies.genre.value_counts().head(20)\n",
    "plt.figure(figsize=(10,10))\n",
    "ax=sns.barplot(x.values,x.index)\n",
    "ax.set_xlabel(\"Number of Movies \")\n",
    "ax.set_ylabel(\"Genre\")\n",
    "plt.title('Ranking of Movies by Genre')"
   ]
  },
  {
   "cell_type": "code",
   "execution_count": 30,
   "metadata": {},
   "outputs": [
    {
     "name": "stderr",
     "output_type": "stream",
     "text": [
      "C:\\Users\\Wader\\Anaconda3\\lib\\site-packages\\seaborn\\_decorators.py:36: FutureWarning: Pass the following variables as keyword args: x, y. From version 0.12, the only valid positional argument will be `data`, and passing other arguments without an explicit keyword will result in an error or misinterpretation.\n",
      "  warnings.warn(\n"
     ]
    },
    {
     "data": {
      "text/plain": [
       "Text(0.5, 1.0, 'Ranking of Movies by Year')"
      ]
     },
     "execution_count": 30,
     "metadata": {},
     "output_type": "execute_result"
    },
    {
     "data": {
      "image/png": "[encoded data removed]",
      "text/plain": [
       "<Figure size 720x720 with 1 Axes>"
      ]
     },
     "metadata": {
      "needs_background": "light"
     },
     "output_type": "display_data"
    }
   ],
   "source": [
    "x=movies.year.value_counts().head(20)\n",
    "plt.figure(figsize=(10,10))\n",
    "ax=sns.barplot(x.values,x.index)\n",
    "ax.set_xlabel(\"Number of Movies Made\")\n",
    "ax.set_ylabel(\"Year of Movie\")\n",
    "plt.title('Ranking of Movies by Year')"
   ]
  },
  {
   "cell_type": "code",
   "execution_count": 31,
   "metadata": {},
   "outputs": [
    {
     "data": {
      "text/plain": [
       "Text(0.5, 1.0, 'Top 10 Runtimes')"
      ]
     },
     "execution_count": 31,
     "metadata": {},
     "output_type": "execute_result"
    },
    {
     "data": {
      "image/png": "[encoded data removed]",
      "text/plain": [
       "<Figure size 1152x720 with 1 Axes>"
      ]
     },
     "metadata": {
      "needs_background": "light"
     },
     "output_type": "display_data"
    }
   ],
   "source": [
    "x=movies.runtime.value_counts().head(10)\n",
    "plt.figure(figsize=(16,10))\n",
    "plt.xlabel(\"Runtime in Minutes\")\n",
    "plt.ylabel(\"Number of Movies\")\n",
    "sns.barplot(x=x.index ,y= x.values)\n",
    "plt.title('Top 10 Runtimes')"
   ]
  },
  {
   "cell_type": "code",
   "execution_count": 32,
   "metadata": {},
   "outputs": [
    {
     "data": {
      "text/plain": [
       "<bound method DataFrame.iterrows of      Unnamed: 0                      name  year  runtime  \\\n",
       "0             0  The Shawshank Redemption  1994      142   \n",
       "1             1             The Godfather  1972      175   \n",
       "2             2           Soorarai Pottru  2020      153   \n",
       "3             3           The Dark Knight  2008      152   \n",
       "4             4    The Godfather: Part II  1974      202   \n",
       "..          ...                       ...   ...      ...   \n",
       "995         995    Breakfast at Tiffany's  1961      115   \n",
       "996         996                     Giant  1956      201   \n",
       "997         997                     Shane  1953      118   \n",
       "998         998     From Here to Eternity  1953      118   \n",
       "999         999                  Lifeboat  1944       97   \n",
       "\n",
       "                      genre  rating  metascore  \\\n",
       "0                     Drama     9.3       80.0   \n",
       "1              Crime, Drama     9.2      100.0   \n",
       "2                     Drama     9.1        NaN   \n",
       "3      Action, Crime, Drama     9.0       84.0   \n",
       "4              Crime, Drama     9.0       90.0   \n",
       "..                      ...     ...        ...   \n",
       "995  Comedy, Drama, Romance     7.6       76.0   \n",
       "996          Drama, Western     7.6       84.0   \n",
       "997          Drama, Western     7.6       80.0   \n",
       "998     Drama, Romance, War     7.6       85.0   \n",
       "999              Drama, War     7.6       78.0   \n",
       "\n",
       "                                              timeline      votes     gross  \n",
       "0    Two imprisoned men bond over a number of years...  2,394,059   $28.34M  \n",
       "1    An organized crime dynasty's aging patriarch t...  1,658,439  $134.97M  \n",
       "2    Nedumaaran Rajangam \"Maara\" sets out to make t...     78,266   unknown  \n",
       "3    When the menace known as the Joker wreaks havo...  2,355,907  $534.86M  \n",
       "4    The early life and career of Vito Corleone in ...  1,152,912   $57.30M  \n",
       "..                                                 ...        ...       ...  \n",
       "995  A young New York socialite becomes interested ...    169,575   unknown  \n",
       "996  Sprawling epic covering the life of a Texas ca...     34,759   unknown  \n",
       "997  A weary gunfighter attempts to settle down wit...     37,753   $20.00M  \n",
       "998  In Hawaii in 1941, a private is cruelly punish...     44,086   $30.50M  \n",
       "999  Several survivors of a torpedoed merchant ship...     26,903   unknown  \n",
       "\n",
       "[1000 rows x 10 columns]>"
      ]
     },
     "execution_count": 32,
     "metadata": {},
     "output_type": "execute_result"
    }
   ],
   "source": [
    "movies.iterrows"
   ]
  },
  {
   "cell_type": "code",
   "execution_count": 33,
   "metadata": {},
   "outputs": [
    {
     "data": {
      "text/plain": [
       "(0,\n",
       " Unnamed: 0                                                    0\n",
       " name                                   The Shawshank Redemption\n",
       " year                                                       1994\n",
       " runtime                                                     142\n",
       " genre                                                     Drama\n",
       " rating                                                      9.3\n",
       " metascore                                                    80\n",
       " timeline      Two imprisoned men bond over a number of years...\n",
       " votes                                                 2,394,059\n",
       " gross                                                   $28.34M\n",
       " Name: 0, dtype: object)"
      ]
     },
     "execution_count": 33,
     "metadata": {},
     "output_type": "execute_result"
    }
   ],
   "source": [
    "next(movies.iterrows())"
   ]
  },
  {
   "cell_type": "code",
   "execution_count": 34,
   "metadata": {},
   "outputs": [],
   "source": [
    "row = next(movies.iterrows())[1]"
   ]
  },
  {
   "cell_type": "code",
   "execution_count": 35,
   "metadata": {},
   "outputs": [
    {
     "data": {
      "text/plain": [
       "<generator object DataFrame.iterrows at 0x0000026E8291D0B0>"
      ]
     },
     "execution_count": 35,
     "metadata": {},
     "output_type": "execute_result"
    }
   ],
   "source": [
    "movies.head(n=2).iterrows()"
   ]
  },
  {
   "cell_type": "code",
   "execution_count": 36,
   "metadata": {},
   "outputs": [],
   "source": [
    "index = movies.head(n=2).iterrows()"
   ]
  },
  {
   "cell_type": "code",
   "execution_count": 37,
   "metadata": {},
   "outputs": [
    {
     "name": "stdout",
     "output_type": "stream",
     "text": [
      "<generator object DataFrame.iterrows at 0x0000026E8291D350> Unnamed: 0                                                    0\n",
      "name                                   The Shawshank Redemption\n",
      "year                                                       1994\n",
      "runtime                                                     142\n",
      "genre                                                     Drama\n",
      "rating                                                      9.3\n",
      "metascore                                                    80\n",
      "timeline      Two imprisoned men bond over a number of years...\n",
      "votes                                                 2,394,059\n",
      "gross                                                   $28.34M\n",
      "Name: 0, dtype: object\n"
     ]
    }
   ],
   "source": [
    "print(index, row)"
   ]
  },
  {
   "cell_type": "code",
   "execution_count": 38,
   "metadata": {},
   "outputs": [
    {
     "name": "stdout",
     "output_type": "stream",
     "text": [
      "<generator object DataFrame.iterrows at 0x0000026E8291D350> 1994 142 Drama\n"
     ]
    }
   ],
   "source": [
    "print(index, row['year'], row['runtime'], row['genre'])"
   ]
  },
  {
   "cell_type": "code",
   "execution_count": 39,
   "metadata": {},
   "outputs": [
    {
     "data": {
      "text/html": [
       "<div>\n",
       "<style scoped>\n",
       "    .dataframe tbody tr th:only-of-type {\n",
       "        vertical-align: middle;\n",
       "    }\n",
       "\n",
       "    .dataframe tbody tr th {\n",
       "        vertical-align: top;\n",
       "    }\n",
       "\n",
       "    .dataframe thead th {\n",
       "        text-align: right;\n",
       "    }\n",
       "</style>\n",
       "<table border=\"1\" class=\"dataframe\">\n",
       "  <thead>\n",
       "    <tr style=\"text-align: right;\">\n",
       "      <th></th>\n",
       "      <th>name</th>\n",
       "      <th>year</th>\n",
       "      <th>runtime</th>\n",
       "      <th>genre</th>\n",
       "      <th>rating</th>\n",
       "      <th>metascore</th>\n",
       "    </tr>\n",
       "  </thead>\n",
       "  <tbody>\n",
       "    <tr>\n",
       "      <th>0</th>\n",
       "      <td>The Shawshank Redemption</td>\n",
       "      <td>1994</td>\n",
       "      <td>142</td>\n",
       "      <td>Drama</td>\n",
       "      <td>9.3</td>\n",
       "      <td>80.0</td>\n",
       "    </tr>\n",
       "    <tr>\n",
       "      <th>1</th>\n",
       "      <td>The Godfather</td>\n",
       "      <td>1972</td>\n",
       "      <td>175</td>\n",
       "      <td>Crime, Drama</td>\n",
       "      <td>9.2</td>\n",
       "      <td>100.0</td>\n",
       "    </tr>\n",
       "    <tr>\n",
       "      <th>2</th>\n",
       "      <td>Soorarai Pottru</td>\n",
       "      <td>2020</td>\n",
       "      <td>153</td>\n",
       "      <td>Drama</td>\n",
       "      <td>9.1</td>\n",
       "      <td>NaN</td>\n",
       "    </tr>\n",
       "    <tr>\n",
       "      <th>3</th>\n",
       "      <td>The Dark Knight</td>\n",
       "      <td>2008</td>\n",
       "      <td>152</td>\n",
       "      <td>Action, Crime, Drama</td>\n",
       "      <td>9.0</td>\n",
       "      <td>84.0</td>\n",
       "    </tr>\n",
       "    <tr>\n",
       "      <th>4</th>\n",
       "      <td>The Godfather: Part II</td>\n",
       "      <td>1974</td>\n",
       "      <td>202</td>\n",
       "      <td>Crime, Drama</td>\n",
       "      <td>9.0</td>\n",
       "      <td>90.0</td>\n",
       "    </tr>\n",
       "    <tr>\n",
       "      <th>5</th>\n",
       "      <td>12 Angry Men</td>\n",
       "      <td>1957</td>\n",
       "      <td>96</td>\n",
       "      <td>Crime, Drama</td>\n",
       "      <td>9.0</td>\n",
       "      <td>96.0</td>\n",
       "    </tr>\n",
       "    <tr>\n",
       "      <th>6</th>\n",
       "      <td>The Lord of the Rings: The Return of the King</td>\n",
       "      <td>2003</td>\n",
       "      <td>201</td>\n",
       "      <td>Action, Adventure, Drama</td>\n",
       "      <td>8.9</td>\n",
       "      <td>94.0</td>\n",
       "    </tr>\n",
       "    <tr>\n",
       "      <th>7</th>\n",
       "      <td>Pulp Fiction</td>\n",
       "      <td>1994</td>\n",
       "      <td>154</td>\n",
       "      <td>Crime, Drama</td>\n",
       "      <td>8.9</td>\n",
       "      <td>94.0</td>\n",
       "    </tr>\n",
       "    <tr>\n",
       "      <th>8</th>\n",
       "      <td>Schindler's List</td>\n",
       "      <td>1993</td>\n",
       "      <td>195</td>\n",
       "      <td>Biography, Drama, History</td>\n",
       "      <td>8.9</td>\n",
       "      <td>94.0</td>\n",
       "    </tr>\n",
       "    <tr>\n",
       "      <th>9</th>\n",
       "      <td>Inception</td>\n",
       "      <td>2010</td>\n",
       "      <td>148</td>\n",
       "      <td>Action, Adventure, Sci-Fi</td>\n",
       "      <td>8.8</td>\n",
       "      <td>74.0</td>\n",
       "    </tr>\n",
       "    <tr>\n",
       "      <th>10</th>\n",
       "      <td>Fight Club</td>\n",
       "      <td>1999</td>\n",
       "      <td>139</td>\n",
       "      <td>Drama</td>\n",
       "      <td>8.8</td>\n",
       "      <td>66.0</td>\n",
       "    </tr>\n",
       "    <tr>\n",
       "      <th>11</th>\n",
       "      <td>The Lord of the Rings: The Fellowship of the Ring</td>\n",
       "      <td>2001</td>\n",
       "      <td>178</td>\n",
       "      <td>Action, Adventure, Drama</td>\n",
       "      <td>8.8</td>\n",
       "      <td>92.0</td>\n",
       "    </tr>\n",
       "    <tr>\n",
       "      <th>12</th>\n",
       "      <td>Forrest Gump</td>\n",
       "      <td>1994</td>\n",
       "      <td>142</td>\n",
       "      <td>Drama, Romance</td>\n",
       "      <td>8.8</td>\n",
       "      <td>82.0</td>\n",
       "    </tr>\n",
       "    <tr>\n",
       "      <th>13</th>\n",
       "      <td>The Good, the Bad and the Ugly</td>\n",
       "      <td>1966</td>\n",
       "      <td>178</td>\n",
       "      <td>Western</td>\n",
       "      <td>8.8</td>\n",
       "      <td>90.0</td>\n",
       "    </tr>\n",
       "    <tr>\n",
       "      <th>14</th>\n",
       "      <td>The Lord of the Rings: The Two Towers</td>\n",
       "      <td>2002</td>\n",
       "      <td>179</td>\n",
       "      <td>Action, Adventure, Drama</td>\n",
       "      <td>8.7</td>\n",
       "      <td>87.0</td>\n",
       "    </tr>\n",
       "    <tr>\n",
       "      <th>15</th>\n",
       "      <td>The Matrix</td>\n",
       "      <td>1999</td>\n",
       "      <td>136</td>\n",
       "      <td>Action, Sci-Fi</td>\n",
       "      <td>8.7</td>\n",
       "      <td>73.0</td>\n",
       "    </tr>\n",
       "    <tr>\n",
       "      <th>16</th>\n",
       "      <td>Goodfellas</td>\n",
       "      <td>1990</td>\n",
       "      <td>146</td>\n",
       "      <td>Biography, Crime, Drama</td>\n",
       "      <td>8.7</td>\n",
       "      <td>90.0</td>\n",
       "    </tr>\n",
       "    <tr>\n",
       "      <th>17</th>\n",
       "      <td>Star Wars: Episode V - The Empire Strikes Back</td>\n",
       "      <td>1980</td>\n",
       "      <td>124</td>\n",
       "      <td>Action, Adventure, Fantasy</td>\n",
       "      <td>8.7</td>\n",
       "      <td>82.0</td>\n",
       "    </tr>\n",
       "    <tr>\n",
       "      <th>18</th>\n",
       "      <td>One Flew Over the Cuckoo's Nest</td>\n",
       "      <td>1975</td>\n",
       "      <td>133</td>\n",
       "      <td>Drama</td>\n",
       "      <td>8.7</td>\n",
       "      <td>84.0</td>\n",
       "    </tr>\n",
       "    <tr>\n",
       "      <th>19</th>\n",
       "      <td>Parasite</td>\n",
       "      <td>2019</td>\n",
       "      <td>132</td>\n",
       "      <td>Comedy, Drama, Thriller</td>\n",
       "      <td>8.6</td>\n",
       "      <td>96.0</td>\n",
       "    </tr>\n",
       "  </tbody>\n",
       "</table>\n",
       "</div>"
      ],
      "text/plain": [
       "                                                 name  year  runtime  \\\n",
       "0                            The Shawshank Redemption  1994      142   \n",
       "1                                       The Godfather  1972      175   \n",
       "2                                     Soorarai Pottru  2020      153   \n",
       "3                                     The Dark Knight  2008      152   \n",
       "4                              The Godfather: Part II  1974      202   \n",
       "5                                        12 Angry Men  1957       96   \n",
       "6       The Lord of the Rings: The Return of the King  2003      201   \n",
       "7                                        Pulp Fiction  1994      154   \n",
       "8                                    Schindler's List  1993      195   \n",
       "9                                           Inception  2010      148   \n",
       "10                                         Fight Club  1999      139   \n",
       "11  The Lord of the Rings: The Fellowship of the Ring  2001      178   \n",
       "12                                       Forrest Gump  1994      142   \n",
       "13                     The Good, the Bad and the Ugly  1966      178   \n",
       "14              The Lord of the Rings: The Two Towers  2002      179   \n",
       "15                                         The Matrix  1999      136   \n",
       "16                                         Goodfellas  1990      146   \n",
       "17     Star Wars: Episode V - The Empire Strikes Back  1980      124   \n",
       "18                    One Flew Over the Cuckoo's Nest  1975      133   \n",
       "19                                           Parasite  2019      132   \n",
       "\n",
       "                         genre  rating  metascore  \n",
       "0                        Drama     9.3       80.0  \n",
       "1                 Crime, Drama     9.2      100.0  \n",
       "2                        Drama     9.1        NaN  \n",
       "3         Action, Crime, Drama     9.0       84.0  \n",
       "4                 Crime, Drama     9.0       90.0  \n",
       "5                 Crime, Drama     9.0       96.0  \n",
       "6     Action, Adventure, Drama     8.9       94.0  \n",
       "7                 Crime, Drama     8.9       94.0  \n",
       "8    Biography, Drama, History     8.9       94.0  \n",
       "9    Action, Adventure, Sci-Fi     8.8       74.0  \n",
       "10                       Drama     8.8       66.0  \n",
       "11    Action, Adventure, Drama     8.8       92.0  \n",
       "12              Drama, Romance     8.8       82.0  \n",
       "13                     Western     8.8       90.0  \n",
       "14    Action, Adventure, Drama     8.7       87.0  \n",
       "15              Action, Sci-Fi     8.7       73.0  \n",
       "16     Biography, Crime, Drama     8.7       90.0  \n",
       "17  Action, Adventure, Fantasy     8.7       82.0  \n",
       "18                       Drama     8.7       84.0  \n",
       "19     Comedy, Drama, Thriller     8.6       96.0  "
      ]
     },
     "execution_count": 39,
     "metadata": {},
     "output_type": "execute_result"
    }
   ],
   "source": [
    "movies.iloc[0:20, 1:7]"
   ]
  },
  {
   "cell_type": "code",
   "execution_count": 40,
   "metadata": {},
   "outputs": [
    {
     "data": {
      "text/plain": [
       "<function matplotlib.pyplot.show(close=None, block=None)>"
      ]
     },
     "execution_count": 40,
     "metadata": {},
     "output_type": "execute_result"
    },
    {
     "data": {
      "image/png": "[encoded data removed]",
      "text/plain": [
       "<Figure size 432x288 with 1 Axes>"
      ]
     },
     "metadata": {
      "needs_background": "light"
     },
     "output_type": "display_data"
    }
   ],
   "source": [
    "sns.histplot(movies['runtime'])\n",
    "plt.show"
   ]
  },
  {
   "cell_type": "code",
   "execution_count": 41,
   "metadata": {},
   "outputs": [
    {
     "data": {
      "text/plain": [
       "<function matplotlib.pyplot.show(close=None, block=None)>"
      ]
     },
     "execution_count": 41,
     "metadata": {},
     "output_type": "execute_result"
    },
    {
     "data": {
      "image/png": "[encoded data removed]",
      "text/plain": [
       "<Figure size 432x288 with 1 Axes>"
      ]
     },
     "metadata": {
      "needs_background": "light"
     },
     "output_type": "display_data"
    }
   ],
   "source": [
    "sns.stripplot(x=\"runtime\",y=\"genre\",data=movies)\n",
    "plt.ylim(0,10)\n",
    "plt.xlim(0,200)\n",
    "plt.show"
   ]
  },
  {
   "cell_type": "code",
   "execution_count": null,
   "metadata": {},
   "outputs": [],
   "source": []
  }
 ],
 "metadata": {
  "kernelspec": {
   "display_name": "Python 3",
   "language": "python",
   "name": "python3"
  },
  "language_info": {
   "codemirror_mode": {
    "name": "ipython",
    "version": 3
   },
   "file_extension": ".py",
   "mimetype": "text/x-python",
   "name": "python",
   "nbconvert_exporter": "python",
   "pygments_lexer": "ipython3",
   "version": "3.8.5"
  }
 },
 "nbformat": 4,
 "nbformat_minor": 4
}
